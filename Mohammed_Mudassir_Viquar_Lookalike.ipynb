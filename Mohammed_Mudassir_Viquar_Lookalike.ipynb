{
  "nbformat": 4,
  "nbformat_minor": 0,
  "metadata": {
    "colab": {
      "provenance": [],
      "authorship_tag": "ABX9TyMtF8gq9QSQbjXkeA3kIprm"
    },
    "kernelspec": {
      "name": "python3",
      "display_name": "Python 3"
    },
    "language_info": {
      "name": "python"
    }
  },
  "cells": [
    {
      "cell_type": "code",
      "execution_count": 1,
      "metadata": {
        "id": "vr2O6MASmHYB"
      },
      "outputs": [],
      "source": [
        "#Importing libraries\n",
        "import pandas as pd\n",
        "import numpy as np\n",
        "from sklearn.metrics.pairwise import cosine_similarity\n",
        "from sklearn.preprocessing import StandardScaler"
      ]
    },
    {
      "cell_type": "code",
      "source": [
        "#Loading the datasets\n",
        "customers = pd.read_csv('/content/sample_data/Customers.csv')\n",
        "products = pd.read_csv('/content/sample_data/Products.csv')\n",
        "transactions = pd.read_csv('/content/sample_data/Transactions.csv')"
      ],
      "metadata": {
        "id": "1eqoQwiRm64O"
      },
      "execution_count": 3,
      "outputs": []
    },
    {
      "cell_type": "code",
      "source": [
        "#Merging data\n",
        "transactions = transactions.merge(customers, on='CustomerID', how='left')\n",
        "transactions = transactions.merge(products, on='ProductID', how='left')"
      ],
      "metadata": {
        "id": "yp9u66rSnBC5"
      },
      "execution_count": 4,
      "outputs": []
    },
    {
      "cell_type": "code",
      "source": [
        "#Check the columns of the merged DataFrame\n",
        "print(transactions.columns)"
      ],
      "metadata": {
        "colab": {
          "base_uri": "https://localhost:8080/"
        },
        "id": "dS2UNrb0pzYz",
        "outputId": "36ccb306-d7c2-4ee6-b5ca-f59c2a39b9de"
      },
      "execution_count": 7,
      "outputs": [
        {
          "output_type": "stream",
          "name": "stdout",
          "text": [
            "Index(['TransactionID', 'CustomerID', 'ProductID', 'TransactionDate',\n",
            "       'Quantity', 'TotalValue', 'Price_x', 'CustomerName', 'Region',\n",
            "       'SignupDate', 'ProductName', 'Category', 'Price_y'],\n",
            "      dtype='object')\n"
          ]
        }
      ]
    },
    {
      "cell_type": "markdown",
      "source": [
        "# **Performing Feature Engineering**"
      ],
      "metadata": {
        "id": "7yeGeECJoW5n"
      }
    },
    {
      "cell_type": "code",
      "source": [
        "# Calculate TotalValue using the price_x column\n",
        "transactions['TotalValue'] = transactions['Quantity'] * transactions['Price_x']\n",
        "\n",
        "#Creating customer features\n",
        "customer_features = transactions.groupby('CustomerID').agg({\n",
        "    'TotalValue': 'sum',\n",
        "    'TransactionID': 'count',\n",
        "}).reset_index()\n",
        "\n",
        "customer_features.columns = ['CustomerID', 'TotalSpent', 'NumTransactions']\n",
        "\n",
        "#Adding demographic features\n",
        "customer_features = customer_features.merge(customers[['CustomerID', 'Region']], on='CustomerID', how='left')\n",
        "\n",
        "#One-hot encode categorical features\n",
        "customer_features = pd.get_dummies(customer_features, columns=['Region'], drop_first=True)\n",
        "\n",
        "#Standardize the features\n",
        "scaler = StandardScaler()\n",
        "features_scaled = scaler.fit_transform(customer_features.drop('CustomerID', axis=1))\n",
        "\n",
        "#Calculate similarity scores\n",
        "similarity_matrix = cosine_similarity(features_scaled)\n",
        "\n",
        "#Create a DataFrame for similarity scores\n",
        "similarity_df = pd.DataFrame(similarity_matrix, index=customer_features['CustomerID'], columns=customer_features['CustomerID'])"
      ],
      "metadata": {
        "id": "MrjALkqAnqsI"
      },
      "execution_count": 9,
      "outputs": []
    },
    {
      "cell_type": "markdown",
      "source": [
        "# **Lookalike Model**"
      ],
      "metadata": {
        "id": "k1uP1dC6olQc"
      }
    },
    {
      "cell_type": "code",
      "source": [],
      "metadata": {
        "id": "S_dWI5FhnxnA"
      },
      "execution_count": 16,
      "outputs": []
    }
  ]
}